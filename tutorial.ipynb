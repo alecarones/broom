{
 "cells": [
  {
   "cell_type": "code",
   "execution_count": 1,
   "id": "1c74a6df-ddf8-4cb4-bef3-828972735fbb",
   "metadata": {},
   "outputs": [],
   "source": [
    "import yaml\n",
    "from dataclasses import dataclass\n",
    "import os \n",
    "import numpy as np\n",
    "import healpy as hp\n",
    "\n",
    "import costi\n",
    "import matplotlib.pyplot as plt\n",
    "from tqdm.notebook import tqdm\n",
    "\n",
    "from costi import (\n",
    "    Configs,\n",
    "    get_params,\n",
    "    component_separation,_get_data_simulations_, _get_noise_simulation, _get_cmb_simulation, _get_data_foregrounds_)\n",
    "from costi.routines import _EB_to_QU, _get_needlet_windows_\n",
    "from costi._seds import _get_CMB_SED\n",
    "%matplotlib inline"
   ]
  },
  {
   "cell_type": "markdown",
   "id": "9b2dfce3-90fe-494c-b3be-0b753109ad62",
   "metadata": {},
   "source": [
    "## Perform run from configuration file"
   ]
  },
  {
   "cell_type": "code",
   "execution_count": 2,
   "id": "8a9cd54d-d3ea-4e35-ab4e-eae2476c5791",
   "metadata": {},
   "outputs": [
    {
     "name": "stdout",
     "output_type": "stream",
     "text": [
      "Loaded configuration from\n",
      " /pscratch/sd/c/carones/SO_extended/configs/config_npipe.yaml\n"
     ]
    }
   ],
   "source": [
    "config_path = os.getcwd() + \"/configs/config_npipe.yaml\"\n",
    "\n",
    "config: Configs = get_params(config_path=config_path)\n",
    "print(\"Loaded configuration from\\n\", config_path)"
   ]
  },
  {
   "cell_type": "code",
   "execution_count": 3,
   "id": "91edc5ce-74bd-4773-af91-f50e7ba1aee5",
   "metadata": {},
   "outputs": [],
   "source": [
    "foregrounds = _get_data_foregrounds_(config)"
   ]
  },
  {
   "cell_type": "code",
   "execution_count": 4,
   "id": "d4ea6745-77f0-4c82-a033-8ffff29df85e",
   "metadata": {},
   "outputs": [
    {
     "name": "stdout",
     "output_type": "stream",
     "text": [
      "(7, 3, 196608, 1)\n"
     ]
    }
   ],
   "source": [
    "print(foregrounds.shape)  #Nfreqs, Nstokes, Npix, 1 (or >1 if return_fgd_components>1)"
   ]
  },
  {
   "cell_type": "code",
   "execution_count": 5,
   "id": "063ff4d5-6e91-4157-b7a4-9e7f844502ed",
   "metadata": {},
   "outputs": [
    {
     "name": "stderr",
     "output_type": "stream",
     "text": [
      "/pscratch/sd/c/carones/SO_extended/costi/simulations.py:140: HealpyDeprecationWarning: \"verbose\" was deprecated in version 1.15.0 and will be removed in a future version. \n",
      "  alm_noise = hp.synalm(N_ell, lmax=3*nside-1, new=True, verbose=False)\n",
      "/pscratch/sd/c/carones/SO_extended/costi/simulations.py:186: HealpyDeprecationWarning: \"verbose\" was deprecated in version 1.15.0 and will be removed in a future version. \n",
      "  cmb_alms = hp.synalm(cls_cmb, lmax=lmax, new=new, verbose=False)\n"
     ]
    }
   ],
   "source": [
    "data = []\n",
    "noise = []\n",
    "cmb = []\n",
    "for nsim in range(config.nsim_start, config.nsim_start+config.nsims):\n",
    "    data_, cmb_, noise_ = _get_data_simulations_(config, foregrounds[...,0], nsim=nsim)\n",
    "    data.append(data_)\n",
    "    noise.append(noise_)\n",
    "    cmb.append(cmb_)\n",
    "data = np.array(data)\n",
    "noise = np.array(noise)\n",
    "cmb = np.array(cmb)\n",
    "data = data[...,None]\n",
    "noise = noise[...,None]"
   ]
  },
  {
   "cell_type": "code",
   "execution_count": 6,
   "id": "382570de-6dec-4580-9206-8ac28a2420a4",
   "metadata": {},
   "outputs": [
    {
     "name": "stdout",
     "output_type": "stream",
     "text": [
      "(1, 7, 3, 196608, 1)\n"
     ]
    }
   ],
   "source": [
    "print(data.shape) # Nsims, Nfreqs, Nstokes, Npix, 1"
   ]
  },
  {
   "cell_type": "code",
   "execution_count": 7,
   "id": "ea6baa26-6dc4-4c57-8a54-cfbc463f11f9",
   "metadata": {},
   "outputs": [
    {
     "name": "stderr",
     "output_type": "stream",
     "text": [
      "/pscratch/sd/c/carones/SO_extended/costi/routines.py:459: HealpyDeprecationWarning: \"verbose\" was deprecated in version 1.15.0 and will be removed in a future version. \n",
      "  stat_out = hp.alm2map(alm_s, nside_covar, lmax=lmax_stat, verbose=False)\n",
      "setting the output map dtype to [dtype('float64'), dtype('float64')]\n",
      "setting the output map dtype to [dtype('float64'), dtype('float64')]\n",
      "setting the output map dtype to [dtype('float64'), dtype('float64')]\n",
      "setting the output map dtype to [dtype('float64'), dtype('float64')]\n",
      "setting the output map dtype to [dtype('float64'), dtype('float64')]\n",
      "setting the output map dtype to [dtype('float64'), dtype('float64')]\n"
     ]
    }
   ],
   "source": [
    "config.field_in = \"QU\"\n",
    "config.field_out = \"EB\"\n",
    "\n",
    "for idx, nsim in enumerate(range(config.nsim_start, config.nsim_start+config.nsims)):\n",
    "    combined_data = np.concatenate([data[idx], noise[idx], foregrounds], axis=3)\n",
    "    component_separation(config, combined_data[:,1:], nsim=nsim)"
   ]
  },
  {
   "cell_type": "code",
   "execution_count": null,
   "id": "2e7a8a1a-5a40-4cbb-b356-eae482158465",
   "metadata": {
    "collapsed": true,
    "jupyter": {
     "outputs_hidden": true
    }
   },
   "outputs": [],
   "source": []
  },
  {
   "cell_type": "code",
   "execution_count": null,
   "id": "e691f67f-705d-49e7-bc33-226a322ebb5a",
   "metadata": {},
   "outputs": [],
   "source": []
  }
 ],
 "metadata": {
  "kernelspec": {
   "display_name": "new_namaster",
   "language": "python",
   "name": "new_namaster"
  },
  "language_info": {
   "codemirror_mode": {
    "name": "ipython",
    "version": 3
   },
   "file_extension": ".py",
   "mimetype": "text/x-python",
   "name": "python",
   "nbconvert_exporter": "python",
   "pygments_lexer": "ipython3",
   "version": "3.11.11"
  }
 },
 "nbformat": 4,
 "nbformat_minor": 5
}
